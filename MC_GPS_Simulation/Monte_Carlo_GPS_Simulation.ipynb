{
  "nbformat": 4,
  "nbformat_minor": 0,
  "metadata": {
    "colab": {
      "provenance": []
    },
    "kernelspec": {
      "name": "python3",
      "display_name": "Python 3"
    },
    "language_info": {
      "name": "python"
    }
  },
  "cells": [
    {
      "cell_type": "code",
      "execution_count": 2,
      "metadata": {
        "colab": {
          "base_uri": "https://localhost:8080/"
        },
        "id": "UlvOeATw7Paz",
        "outputId": "1e94f5ae-4996-4c06-8bce-20baec3cd800"
      },
      "outputs": [
        {
          "output_type": "stream",
          "name": "stdout",
          "text": [
            "Simulated Latitude: 34.042672454408056\n",
            "Simulated Longitude: -118.23544076826255\n"
          ]
        }
      ],
      "source": [
        "import numpy as np\n",
        "\n",
        "def simulate_gps_coordinates(actual_latitude, actual_longitude, lat_error_stddev, lon_error_stddev):\n",
        "    # Generate random errors based on specified standard deviations\n",
        "    lat_error = np.random.normal(0, lat_error_stddev)\n",
        "    lon_error = np.random.normal(0, lon_error_stddev)\n",
        "\n",
        "    # Simulate GPS coordinates by adding errors to actual location\n",
        "    simulated_latitude = actual_latitude + lat_error\n",
        "    simulated_longitude = actual_longitude + lon_error\n",
        "\n",
        "    return simulated_latitude, simulated_longitude\n",
        "\n",
        "# Actual location\n",
        "actual_latitude = 34.0522\n",
        "actual_longitude = -118.2437\n",
        "\n",
        "# Error parameters (standard deviations for latitude and longitude)\n",
        "lat_error_stddev = 0.01\n",
        "lon_error_stddev = 0.01\n",
        "\n",
        "# Simulate GPS coordinates\n",
        "simulated_latitude, simulated_longitude = simulate_gps_coordinates(\n",
        "    actual_latitude, actual_longitude, lat_error_stddev, lon_error_stddev\n",
        ")\n",
        "\n",
        "# Print the simulated coordinates\n",
        "print(f\"Simulated Latitude: {simulated_latitude}\")\n",
        "print(f\"Simulated Longitude: {simulated_longitude}\")\n"
      ]
    },
    {
      "cell_type": "code",
      "source": [],
      "metadata": {
        "id": "H32ikX-q7QXD"
      },
      "execution_count": null,
      "outputs": []
    }
  ]
}